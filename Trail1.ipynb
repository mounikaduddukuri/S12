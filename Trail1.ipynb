{
  "nbformat": 4,
  "nbformat_minor": 0,
  "metadata": {
    "colab": {
      "name": "Trail1.ipynb",
      "provenance": [],
      "collapsed_sections": [],
      "authorship_tag": "ABX9TyNd2HFHEqnfsozSNiGl6VLF",
      "include_colab_link": true
    },
    "kernelspec": {
      "name": "python3",
      "display_name": "Python 3"
    }
  },
  "cells": [
    {
      "cell_type": "markdown",
      "metadata": {
        "id": "view-in-github",
        "colab_type": "text"
      },
      "source": [
        "<a href=\"https://colab.research.google.com/github/mounikaduddukuri/S12/blob/master/Trail1.ipynb\" target=\"_parent\"><img src=\"https://colab.research.google.com/assets/colab-badge.svg\" alt=\"Open In Colab\"/></a>"
      ]
    },
    {
      "cell_type": "code",
      "metadata": {
        "id": "3dL9iOqz0Yk5",
        "colab_type": "code",
        "outputId": "669110e3-4d35-4afb-cd1a-5698bb3bcaa4",
        "colab": {
          "base_uri": "https://localhost:8080/",
          "height": 124
        }
      },
      "source": [
        "# mount gdrive and unzip data\n",
        "from google.colab import drive\n",
        "drive.mount('/content/gdrive',force_remount=True)"
      ],
      "execution_count": 0,
      "outputs": [
        {
          "output_type": "stream",
          "text": [
            "Go to this URL in a browser: https://accounts.google.com/o/oauth2/auth?client_id=947318989803-6bn6qk8qdgf4n4g3pfee6491hc0brc4i.apps.googleusercontent.com&redirect_uri=urn%3aietf%3awg%3aoauth%3a2.0%3aoob&response_type=code&scope=email%20https%3a%2f%2fwww.googleapis.com%2fauth%2fdocs.test%20https%3a%2f%2fwww.googleapis.com%2fauth%2fdrive%20https%3a%2f%2fwww.googleapis.com%2fauth%2fdrive.photos.readonly%20https%3a%2f%2fwww.googleapis.com%2fauth%2fpeopleapi.readonly\n",
            "\n",
            "Enter your authorization code:\n",
            "··········\n",
            "Mounted at /content/gdrive\n"
          ],
          "name": "stdout"
        }
      ]
    },
    {
      "cell_type": "code",
      "metadata": {
        "id": "_jO-QiAe9wPD",
        "colab_type": "code",
        "colab": {}
      },
      "source": [
        "import json\n",
        "import pandas as pd "
      ],
      "execution_count": 0,
      "outputs": []
    },
    {
      "cell_type": "code",
      "metadata": {
        "id": "rJ0NjXsmAMQZ",
        "colab_type": "code",
        "outputId": "18c69316-43cc-4c48-e81c-1d0a96cf3ab5",
        "colab": {
          "base_uri": "https://localhost:8080/",
          "height": 35
        }
      },
      "source": [
        "file = open('/content/gdrive/My Drive/Session12/via_export_coco (4).json')\n",
        "data = json.load(file)\n",
        "print(data.keys())"
      ],
      "execution_count": 0,
      "outputs": [
        {
          "output_type": "stream",
          "text": [
            "dict_keys(['info', 'images', 'annotations', 'licenses', 'categories'])\n"
          ],
          "name": "stdout"
        }
      ]
    },
    {
      "cell_type": "code",
      "metadata": {
        "id": "xhhHc1MsBUq0",
        "colab_type": "code",
        "outputId": "1bb6645b-edc7-4d0e-a256-28871be2d56d",
        "colab": {
          "base_uri": "https://localhost:8080/",
          "height": 121
        }
      },
      "source": [
        "data['info']"
      ],
      "execution_count": 0,
      "outputs": [
        {
          "output_type": "execute_result",
          "data": {
            "text/plain": [
              "{'contributor': '',\n",
              " 'date_created': 'Fri Apr 17 2020 15:55:33 GMT+0530 (India Standard Time)',\n",
              " 'description': 'Exported using VGG Image Annotator (http://www.robots.ox.ac.uk/~vgg/software/via/)',\n",
              " 'url': 'http://www.robots.ox.ac.uk/~vgg/software/via/',\n",
              " 'version': '1',\n",
              " 'year': 2020}"
            ]
          },
          "metadata": {
            "tags": []
          },
          "execution_count": 25
        }
      ]
    },
    {
      "cell_type": "code",
      "metadata": {
        "id": "MgUsi-9i2WNu",
        "colab_type": "code",
        "colab": {}
      },
      "source": [
        "images = pd.DataFrame(data['images'], columns = data['images'][0].keys())\n",
        "annotations = pd.DataFrame(data['annotations'], columns = data['annotations'][0].keys())"
      ],
      "execution_count": 0,
      "outputs": []
    },
    {
      "cell_type": "code",
      "metadata": {
        "id": "QfqkEJQOCKAU",
        "colab_type": "code",
        "outputId": "2f47384a-1f7a-468a-841c-f4bdaf2e7d56",
        "colab": {
          "base_uri": "https://localhost:8080/",
          "height": 295
        }
      },
      "source": [
        "print(images.head(),'\\n')\n",
        "print('###################################################')\n",
        "print(annotations.head())"
      ],
      "execution_count": 0,
      "outputs": [
        {
          "output_type": "stream",
          "text": [
            "   id  width  height file_name  license date_captured\n",
            "0   0    900     600     1.jpg        1              \n",
            "1   1   1200     600     2.jpg        1              \n",
            "2   2   1254     836     3.jpg        1              \n",
            "3   3    540     405     4.jpg        1              \n",
            "4   4   1024    1024     5.jpg        1               \n",
            "\n",
            "###################################################\n",
            "   id image_id  ...                 bbox  iscrowd\n",
            "0   0        0  ...  [225, 64, 550, 386]        0\n",
            "1   1        1  ...  [376, 40, 366, 553]        0\n",
            "2   2        2  ...    [8, 11, 773, 821]        0\n",
            "3   3        3  ...    [7, 71, 486, 334]        0\n",
            "4   4        4  ...    [6, 21, 768, 715]        0\n",
            "\n",
            "[5 rows x 6 columns]\n"
          ],
          "name": "stdout"
        }
      ]
    },
    {
      "cell_type": "code",
      "metadata": {
        "id": "_J7KbmZ83Mpa",
        "colab_type": "code",
        "colab": {}
      },
      "source": [
        "#file.close()"
      ],
      "execution_count": 0,
      "outputs": []
    },
    {
      "cell_type": "code",
      "metadata": {
        "id": "XGPeSs6E57rm",
        "colab_type": "code",
        "outputId": "77d7f4f2-01b3-4509-ed9b-86e60272fdac",
        "colab": {
          "base_uri": "https://localhost:8080/",
          "height": 72
        }
      },
      "source": [
        "#extracting only the width and height of bounding box by splitting the bbox Series\n",
        "b_width = []\n",
        "b_height = []\n",
        "\n",
        "#print(len(files_split[\"bbox\"]))\n",
        "\n",
        "for i in range(len(annotations[\"bbox\"])):\n",
        "  a=annotations[\"bbox\"][i]\n",
        "  if type(a) != type([]): continue\n",
        "  b_width.append(a[2])\n",
        "  b_height.append(a[3])\n",
        "print(\"bbox width=\",b_width,\"\\nbbox height=\",b_height)"
      ],
      "execution_count": 0,
      "outputs": [
        {
          "output_type": "stream",
          "text": [
            "bbox width= [550, 366, 773, 486, 768, 534, 282, 475, 412, 436, 1129, 250, 227, 442, 314, 565, 662, 199, 213, 989, 250, 403, 418, 336, 356, 584, 199, 186, 383, 528, 372, 332, 306, 912, 242, 634, 340, 1325, 174, 453, 703, 442, 169, 423, 431, 425, 706, 239, 306, 169] \n",
            "bbox height= [386, 553, 821, 334, 715, 411, 320, 508, 329, 593, 804, 344, 308, 331, 296, 664, 450, 287, 292, 663, 386, 495, 603, 210, 203, 862, 470, 163, 562, 253, 447, 609, 333, 400, 365, 437, 188, 497, 273, 853, 560, 426, 106, 390, 461, 849, 482, 273, 470, 320]\n"
          ],
          "name": "stdout"
        }
      ]
    },
    {
      "cell_type": "code",
      "metadata": {
        "id": "smmhYia-loXN",
        "colab_type": "code",
        "outputId": "6a3f1c62-e932-4244-a48c-ab0b3ca9616e",
        "colab": {
          "base_uri": "https://localhost:8080/",
          "height": 202
        }
      },
      "source": [
        "#concatinating both images and annotations and dropping the columns that are not required\n",
        "annotations['b_width']=b_width\n",
        "annotations['b_height']=b_height\n",
        "\n",
        "annotations = pd.concat([images,annotations],axis=1)\n",
        "annotations = annotations.drop([\"id\",\"image_id\",\"license\",\"iscrowd\",\"area\",\"segmentation\",\"date_captured\",\"bbox\"],axis=1)\n",
        "annotations.head()"
      ],
      "execution_count": 0,
      "outputs": [
        {
          "output_type": "execute_result",
          "data": {
            "text/html": [
              "<div>\n",
              "<style scoped>\n",
              "    .dataframe tbody tr th:only-of-type {\n",
              "        vertical-align: middle;\n",
              "    }\n",
              "\n",
              "    .dataframe tbody tr th {\n",
              "        vertical-align: top;\n",
              "    }\n",
              "\n",
              "    .dataframe thead th {\n",
              "        text-align: right;\n",
              "    }\n",
              "</style>\n",
              "<table border=\"1\" class=\"dataframe\">\n",
              "  <thead>\n",
              "    <tr style=\"text-align: right;\">\n",
              "      <th></th>\n",
              "      <th>width</th>\n",
              "      <th>height</th>\n",
              "      <th>file_name</th>\n",
              "      <th>b_width</th>\n",
              "      <th>b_height</th>\n",
              "    </tr>\n",
              "  </thead>\n",
              "  <tbody>\n",
              "    <tr>\n",
              "      <th>0</th>\n",
              "      <td>900</td>\n",
              "      <td>600</td>\n",
              "      <td>1.jpg</td>\n",
              "      <td>550</td>\n",
              "      <td>386</td>\n",
              "    </tr>\n",
              "    <tr>\n",
              "      <th>1</th>\n",
              "      <td>1200</td>\n",
              "      <td>600</td>\n",
              "      <td>2.jpg</td>\n",
              "      <td>366</td>\n",
              "      <td>553</td>\n",
              "    </tr>\n",
              "    <tr>\n",
              "      <th>2</th>\n",
              "      <td>1254</td>\n",
              "      <td>836</td>\n",
              "      <td>3.jpg</td>\n",
              "      <td>773</td>\n",
              "      <td>821</td>\n",
              "    </tr>\n",
              "    <tr>\n",
              "      <th>3</th>\n",
              "      <td>540</td>\n",
              "      <td>405</td>\n",
              "      <td>4.jpg</td>\n",
              "      <td>486</td>\n",
              "      <td>334</td>\n",
              "    </tr>\n",
              "    <tr>\n",
              "      <th>4</th>\n",
              "      <td>1024</td>\n",
              "      <td>1024</td>\n",
              "      <td>5.jpg</td>\n",
              "      <td>768</td>\n",
              "      <td>715</td>\n",
              "    </tr>\n",
              "  </tbody>\n",
              "</table>\n",
              "</div>"
            ],
            "text/plain": [
              "   width  height file_name  b_width  b_height\n",
              "0    900     600     1.jpg      550       386\n",
              "1   1200     600     2.jpg      366       553\n",
              "2   1254     836     3.jpg      773       821\n",
              "3    540     405     4.jpg      486       334\n",
              "4   1024    1024     5.jpg      768       715"
            ]
          },
          "metadata": {
            "tags": []
          },
          "execution_count": 29
        }
      ]
    },
    {
      "cell_type": "code",
      "metadata": {
        "id": "Esm2wZiklaRy",
        "colab_type": "code",
        "colab": {}
      },
      "source": [
        "#normalize the bbox width and bbox height \n",
        "annotations['b_width'] = annotations['b_width'].div(annotations['width'])\n",
        "annotations['b_height'] = annotations['b_height'].div(annotations['height'])"
      ],
      "execution_count": 0,
      "outputs": []
    },
    {
      "cell_type": "code",
      "metadata": {
        "id": "u-cR60g5EVdM",
        "colab_type": "code",
        "outputId": "d010b4a0-8fc2-49a4-b5c3-ec875e692d39",
        "colab": {
          "base_uri": "https://localhost:8080/",
          "height": 202
        }
      },
      "source": [
        "#normalize the width and height of image to 1x1\n",
        "annotations['width'] = annotations['width'].div(annotations['width'])\n",
        "annotations['height'] = annotations['height'].div(annotations['height'])\n",
        "annotations.head()"
      ],
      "execution_count": 0,
      "outputs": [
        {
          "output_type": "execute_result",
          "data": {
            "text/html": [
              "<div>\n",
              "<style scoped>\n",
              "    .dataframe tbody tr th:only-of-type {\n",
              "        vertical-align: middle;\n",
              "    }\n",
              "\n",
              "    .dataframe tbody tr th {\n",
              "        vertical-align: top;\n",
              "    }\n",
              "\n",
              "    .dataframe thead th {\n",
              "        text-align: right;\n",
              "    }\n",
              "</style>\n",
              "<table border=\"1\" class=\"dataframe\">\n",
              "  <thead>\n",
              "    <tr style=\"text-align: right;\">\n",
              "      <th></th>\n",
              "      <th>width</th>\n",
              "      <th>height</th>\n",
              "      <th>file_name</th>\n",
              "      <th>b_width</th>\n",
              "      <th>b_height</th>\n",
              "    </tr>\n",
              "  </thead>\n",
              "  <tbody>\n",
              "    <tr>\n",
              "      <th>0</th>\n",
              "      <td>1.0</td>\n",
              "      <td>1.0</td>\n",
              "      <td>1.jpg</td>\n",
              "      <td>0.611111</td>\n",
              "      <td>0.643333</td>\n",
              "    </tr>\n",
              "    <tr>\n",
              "      <th>1</th>\n",
              "      <td>1.0</td>\n",
              "      <td>1.0</td>\n",
              "      <td>2.jpg</td>\n",
              "      <td>0.305000</td>\n",
              "      <td>0.921667</td>\n",
              "    </tr>\n",
              "    <tr>\n",
              "      <th>2</th>\n",
              "      <td>1.0</td>\n",
              "      <td>1.0</td>\n",
              "      <td>3.jpg</td>\n",
              "      <td>0.616427</td>\n",
              "      <td>0.982057</td>\n",
              "    </tr>\n",
              "    <tr>\n",
              "      <th>3</th>\n",
              "      <td>1.0</td>\n",
              "      <td>1.0</td>\n",
              "      <td>4.jpg</td>\n",
              "      <td>0.900000</td>\n",
              "      <td>0.824691</td>\n",
              "    </tr>\n",
              "    <tr>\n",
              "      <th>4</th>\n",
              "      <td>1.0</td>\n",
              "      <td>1.0</td>\n",
              "      <td>5.jpg</td>\n",
              "      <td>0.750000</td>\n",
              "      <td>0.698242</td>\n",
              "    </tr>\n",
              "  </tbody>\n",
              "</table>\n",
              "</div>"
            ],
            "text/plain": [
              "   width  height file_name   b_width  b_height\n",
              "0    1.0     1.0     1.jpg  0.611111  0.643333\n",
              "1    1.0     1.0     2.jpg  0.305000  0.921667\n",
              "2    1.0     1.0     3.jpg  0.616427  0.982057\n",
              "3    1.0     1.0     4.jpg  0.900000  0.824691\n",
              "4    1.0     1.0     5.jpg  0.750000  0.698242"
            ]
          },
          "metadata": {
            "tags": []
          },
          "execution_count": 31
        }
      ]
    },
    {
      "cell_type": "code",
      "metadata": {
        "id": "E8pN4PRa99-_",
        "colab_type": "code",
        "colab": {}
      },
      "source": [
        "#extract only the colums we want to work on\n",
        "annotations=annotations.drop([\"width\",\"height\",\"file_name\"],axis=1)"
      ],
      "execution_count": 0,
      "outputs": []
    },
    {
      "cell_type": "code",
      "metadata": {
        "id": "dp_UKaOF-zoX",
        "colab_type": "code",
        "outputId": "344cc476-a1a9-4577-8b2c-0d7b347c2388",
        "colab": {
          "base_uri": "https://localhost:8080/",
          "height": 295
        }
      },
      "source": [
        "from sklearn.cluster import KMeans\n",
        "from sklearn import metrics\n",
        "from scipy.spatial.distance import cdist\n",
        "import numpy as np\n",
        "import matplotlib.pyplot as plt\n",
        "# k means determine k\n",
        "distortions = []\n",
        "K = range(1,10)\n",
        "for k in K:\n",
        "    kmeanModel = KMeans(n_clusters=k).fit(annotations)\n",
        "    kmeanModel.fit(annotations)\n",
        "    distortions.append(sum(np.min(cdist(annotations, kmeanModel.cluster_centers_, 'euclidean'), axis=1)) / annotations.shape[0])\n",
        "\n",
        "# Plot the elbow\n",
        "plt.plot(K, distortions, 'bx-')\n",
        "plt.xlabel('k')\n",
        "plt.ylabel('Distortion')\n",
        "plt.title('The Elbow Method showing the optimal k')\n",
        "plt.show()"
      ],
      "execution_count": 0,
      "outputs": [
        {
          "output_type": "display_data",
          "data": {
            "image/png": "[encoded data removed]",
            "text/plain": [
              "<Figure size 432x288 with 1 Axes>"
            ]
          },
          "metadata": {
            "tags": [],
            "needs_background": "light"
          }
        }
      ]
    },
    {
      "cell_type": "code",
      "metadata": {
        "id": "jtWdmY-kK_lN",
        "colab_type": "code",
        "colab": {}
      },
      "source": [
        "arr = np.array(annotations)"
      ],
      "execution_count": 0,
      "outputs": []
    },
    {
      "cell_type": "code",
      "metadata": {
        "id": "N2N9ecF0EQEb",
        "colab_type": "code",
        "outputId": "eb4fae17-8616-4c24-8e4d-3477983c480a",
        "colab": {
          "base_uri": "https://localhost:8080/",
          "height": 69
        }
      },
      "source": [
        "kmeans = KMeans(3)\n",
        "kmeans.fit(arr)\n"
      ],
      "execution_count": 0,
      "outputs": [
        {
          "output_type": "execute_result",
          "data": {
            "text/plain": [
              "KMeans(algorithm='auto', copy_x=True, init='k-means++', max_iter=300,\n",
              "       n_clusters=3, n_init=10, n_jobs=None, precompute_distances='auto',\n",
              "       random_state=None, tol=0.0001, verbose=0)"
            ]
          },
          "metadata": {
            "tags": []
          },
          "execution_count": 39
        }
      ]
    },
    {
      "cell_type": "code",
      "metadata": {
        "id": "-4yNn3snHz_P",
        "colab_type": "code",
        "outputId": "a39a8f84-4ca8-4908-c672-5de5882847e2",
        "colab": {
          "base_uri": "https://localhost:8080/",
          "height": 283
        }
      },
      "source": [
        "#plotting the scatter plot and finding centroids\n",
        "plt.scatter(kmeans.cluster_centers_[:,0],kmeans.cluster_centers_[:,1],color='green',s=200)\n",
        "plt.scatter(list(annotations['b_width']),list(annotations['b_height']),c=list(kmeans.labels_.astype(float)))"
      ],
      "execution_count": 0,
      "outputs": [
        {
          "output_type": "execute_result",
          "data": {
            "text/plain": [
              "<matplotlib.collections.PathCollection at 0x7f6f35a85a58>"
            ]
          },
          "metadata": {
            "tags": []
          },
          "execution_count": 40
        },
        {
          "output_type": "display_data",
          "data": {
            "image/png": "[encoded data removed]",
            "text/plain": [
              "<Figure size 432x288 with 1 Axes>"
            ]
          },
          "metadata": {
            "tags": [],
            "needs_background": "light"
          }
        }
      ]
    }
  ]
}